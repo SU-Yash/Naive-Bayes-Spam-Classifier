{
  "nbformat": 4,
  "nbformat_minor": 0,
  "metadata": {
    "colab": {
      "name": "Untitled1.ipynb",
      "version": "0.3.2",
      "provenance": [],
      "collapsed_sections": []
    },
    "kernelspec": {
      "name": "python3",
      "display_name": "Python 3"
    }
  },
  "cells": [
    {
      "metadata": {
        "id": "L6ET7frHjtqn",
        "colab_type": "code",
        "colab": {}
      },
      "cell_type": "code",
      "source": [
        "#Importing Modules:\n",
        "import csv\n",
        "import numpy as np\n",
        "import pandas as pd\n",
        "\n",
        "from numpy.random import RandomState\n",
        "from sklearn.model_selection import KFold\n",
        "\n",
        "from sklearn.model_selection import train_test_split\n",
        "\n",
        "from sklearn.naive_bayes import MultinomialNB\n",
        "from sklearn.naive_bayes import BernoulliNB\n",
        "\n",
        "from prettytable import PrettyTable"
      ],
      "execution_count": 0,
      "outputs": []
    },
    {
      "metadata": {
        "id": "nZbb0KIRjvyi",
        "colab_type": "code",
        "colab": {
          "base_uri": "https://localhost:8080/",
          "height": 34
        },
        "outputId": "0d87dd72-4ffd-46e4-ed83-c4e2efb9eb3e"
      },
      "cell_type": "code",
      "source": [
        "#Reading Data using Pandas dataframe and printing 8 rows\n",
        "#Making last column header as label.\n",
        "df = pd.read_csv('spambase.data', header=None)\n",
        "df.rename(columns={57:'label'}, inplace=True)\n",
        "df[:8]\n",
        "df.shape\n"
      ],
      "execution_count": 19,
      "outputs": [
        {
          "output_type": "execute_result",
          "data": {
            "text/plain": [
              "(4601, 58)"
            ]
          },
          "metadata": {
            "tags": []
          },
          "execution_count": 19
        }
      ]
    },
    {
      "metadata": {
        "id": "eHC4KJV4jyhC",
        "colab_type": "code",
        "colab": {
          "base_uri": "https://localhost:8080/",
          "height": 91
        },
        "outputId": "b5cad8e3-05d8-4e56-e81b-bff9abbaf65f"
      },
      "cell_type": "code",
      "source": [
        "# Dividing data into spam and not spam and then into Train/Test:\n",
        "\n",
        "spam = df[df['label'] == 1]\n",
        "notspam = df[df['label'] == 0]\n",
        "spam[:2]\n",
        "notspam[:3]\n",
        "\n",
        "spam_train, spam_test = train_test_split(spam, train_size=0.75)\n",
        "notspam_train, notspam_test = train_test_split(notspam, train_size=0.75)\n",
        "\n"
      ],
      "execution_count": 20,
      "outputs": [
        {
          "output_type": "stream",
          "text": [
            "/usr/local/lib/python3.6/dist-packages/sklearn/model_selection/_split.py:2179: FutureWarning: From version 0.21, test_size will always complement train_size unless both are specified.\n",
            "  FutureWarning)\n"
          ],
          "name": "stderr"
        }
      ]
    },
    {
      "metadata": {
        "id": "C1gIr-Rpj0IU",
        "colab_type": "code",
        "colab": {
          "base_uri": "https://localhost:8080/",
          "height": 85
        },
        "outputId": "d3304ef3-d51c-4233-f385-7ba9574cbc57"
      },
      "cell_type": "code",
      "source": [
        "# Appending data to have train consist of both Spam and not spam:::\n",
        "\n",
        "\n",
        "X_train = notspam_train.append(spam_train)\n",
        "X_train.sample(frac=1)\n",
        "Y_train = X_train.pop('label')\n",
        "X_test = notspam_test.append(spam_test)\n",
        "X_test.sample(frac=1)\n",
        "Y_test = X_test.pop('label')\n",
        "print(X_train.shape)\n",
        "print(X_test.shape)\n",
        "print(Y_train.shape)\n",
        "print(Y_test.shape)\n",
        "\n"
      ],
      "execution_count": 21,
      "outputs": [
        {
          "output_type": "stream",
          "text": [
            "(3450, 57)\n",
            "(1151, 57)\n",
            "(3450,)\n",
            "(1151,)\n"
          ],
          "name": "stdout"
        }
      ]
    },
    {
      "metadata": {
        "id": "yLv8G9LTj1xf",
        "colab_type": "code",
        "colab": {
          "base_uri": "https://localhost:8080/",
          "height": 51
        },
        "outputId": "8f61fdbf-b350-4630-c6fd-3572af77a423"
      },
      "cell_type": "code",
      "source": [
        "# With help from Mult Baysian\n",
        "spam_bayes_mult = MultinomialNB()\n",
        "spam_bayes_mult.fit(X_train, Y_train)\n",
        "sc_train = spam_bayes_mult.score(X_train, Y_train)\n",
        "sc_test = spam_bayes_mult.score(X_test, Y_test)\n",
        "print(\"Train Score is: \", sc_train)\n",
        "print(\"Test Score is: \", sc_test)"
      ],
      "execution_count": 22,
      "outputs": [
        {
          "output_type": "stream",
          "text": [
            "Train Score is:  0.7979710144927536\n",
            "Test Score is:  0.7862728062554301\n"
          ],
          "name": "stdout"
        }
      ]
    },
    {
      "metadata": {
        "id": "D3YrN03Vj3eZ",
        "colab_type": "code",
        "colab": {
          "base_uri": "https://localhost:8080/",
          "height": 51
        },
        "outputId": "c41183eb-cd51-4c33-dec4-c392d4e7f477"
      },
      "cell_type": "code",
      "source": [
        "#With help from Bernoulli distribution\n",
        "spam_bayes_bern = BernoulliNB()\n",
        "spam_bayes_bern.fit(X_train, Y_train)\n",
        "sc_train_bern = spam_bayes_bern.score(X_train, Y_train)\n",
        "sc_test_bern = spam_bayes_bern.score(X_test, Y_test)\n",
        "print(\"Train Score is: \", sc_train_bern)\n",
        "print(\"Test Score is: \", sc_test_bern)"
      ],
      "execution_count": 23,
      "outputs": [
        {
          "output_type": "stream",
          "text": [
            "Train Score is:  0.884927536231884\n",
            "Test Score is:  0.8922675933970461\n"
          ],
          "name": "stdout"
        }
      ]
    },
    {
      "metadata": {
        "id": "TdRQH-4Fj40h",
        "colab_type": "code",
        "colab": {
          "base_uri": "https://localhost:8080/",
          "height": 102
        },
        "outputId": "d4168404-3e1a-4951-e697-b390f56c0ace"
      },
      "cell_type": "code",
      "source": [
        "#Trying K-fold Validation. Total Examples = 4601\n",
        "#Using K = 20. \n",
        "df.sample(frac=1)\n",
        "print(df.shape)\n",
        "data_y = df.pop('label')\n",
        "data = df.values\n",
        "print(\"After Pop:\")\n",
        "y = data_y.values\n",
        "print(\"Converted to Numpy, Printing Shapes\")\n",
        "print(np.shape(data))     #Shape has dropped label, this is X (4601, 57)\n",
        "print(np.shape(y))   # These are labels (4601,)\n",
        "kf = KFold(n_splits=20, random_state=None, shuffle=False)\n",
        "\n"
      ],
      "execution_count": 24,
      "outputs": [
        {
          "output_type": "stream",
          "text": [
            "(4601, 58)\n",
            "After Pop: \n",
            "Converted to Numpy, Printing Shapes\n",
            "(4601, 57)\n",
            "(4601,)\n"
          ],
          "name": "stdout"
        }
      ]
    },
    {
      "metadata": {
        "id": "56e-18GNj6Td",
        "colab_type": "code",
        "colab": {
          "base_uri": "https://localhost:8080/",
          "height": 442
        },
        "outputId": "f78c9128-0d66-42bc-d436-446943b5bfbf"
      },
      "cell_type": "code",
      "source": [
        "# Function to calulate the rates\n",
        "def perf_measure(y_actual, y_hat):\n",
        "    FP = 0\n",
        "    FN = 0\n",
        "\n",
        "    for i in range(len(y_hat)): \n",
        "        if y_hat[i]==1 and y_actual[i]!=y_hat[i]:\n",
        "           FP += 1\n",
        "\n",
        "        if y_hat[i]==0 and y_actual[i]!=y_hat[i]:\n",
        "           FN += 1\n",
        "\n",
        "    return(FP/len(y_hat), FN/len(y_hat), (FP+FN)/len(y_hat))\n",
        "  \n",
        "#\n",
        "predicted_y,expected_y = [],[]\n",
        "k = 0\n",
        "falsePositives_total = 0.0\n",
        "falseNegatives_total = 0.0\n",
        "errors_total = 0\n",
        "table = PrettyTable(['Fold', 'False Positive Rate', 'False Negative Rate', 'Error Rate'])\n",
        "\n",
        "for train_indices, test_indices in kf.split(data):\n",
        "  train_x = (data[train_indices])\n",
        "  train_y = (data_y[train_indices])\n",
        "  \n",
        "  #Fit, Bernoulli distribution has better accuracy\n",
        "  spam_bayes_bern.fit(train_x, train_y)\n",
        "  \n",
        "  #Predicted and Expected Resutls for the current fold\n",
        "  y_actual = data_y[test_indices].values\n",
        "  y_hat = spam_bayes_bern.predict(data[test_indices])\n",
        "  \n",
        "  #False Positives and False Negatives\n",
        "  results = perf_measure(y_actual, y_hat)\n",
        "  \n",
        "  #Adding rows to results table\n",
        "  table.add_row([k+1, results[0], results[1], results[2]])\n",
        "  \n",
        "  #store results for calulating average rates\n",
        "  falsePositives_total = falsePostives_total + results[0]\n",
        "  falseNegatives_total = falseNegatives_total + results[1]\n",
        "  errors_total = errors_total + results[2]\n",
        "  k = k + 1\n",
        "  \n",
        "  # store result from classification\n",
        "  predicted_y.extend(y_hat)\n",
        "\n",
        "  # store expected result\n",
        "  expected_y.extend(y_actual)\n",
        "  \n",
        "  \n",
        "table.add_row(['Average', falsePositives_total/20, falseNegatives_total/20, errors_total/20])\n",
        "print(t)\n",
        "\n"
      ],
      "execution_count": 46,
      "outputs": [
        {
          "output_type": "stream",
          "text": [
            "+---------+----------------------+---------------------+----------------------+\n",
            "|   Fold  | False Positive Rate  | False Negative Rate |      Error Rate      |\n",
            "+---------+----------------------+---------------------+----------------------+\n",
            "|    1    |         0.0          | 0.19913419913419914 | 0.19913419913419914  |\n",
            "|    2    |         0.0          |  0.1608695652173913 |  0.1608695652173913  |\n",
            "|    3    |         0.0          | 0.20869565217391303 | 0.20869565217391303  |\n",
            "|    4    |         0.0          | 0.16521739130434782 | 0.16521739130434782  |\n",
            "|    5    |         0.0          | 0.11304347826086956 | 0.11304347826086956  |\n",
            "|    6    |         0.0          | 0.16956521739130434 | 0.16956521739130434  |\n",
            "|    7    |         0.0          | 0.23043478260869565 | 0.23043478260869565  |\n",
            "|    8    |         0.0          | 0.24347826086956523 | 0.24347826086956523  |\n",
            "|    9    | 0.04782608695652174  |         0.0         | 0.04782608695652174  |\n",
            "|    10   | 0.02608695652173913  |         0.0         | 0.02608695652173913  |\n",
            "|    11   | 0.04782608695652174  |         0.0         | 0.04782608695652174  |\n",
            "|    12   | 0.034782608695652174 |         0.0         | 0.034782608695652174 |\n",
            "|    13   | 0.06521739130434782  |         0.0         | 0.06521739130434782  |\n",
            "|    14   | 0.05652173913043478  |         0.0         | 0.05652173913043478  |\n",
            "|    15   | 0.04782608695652174  |         0.0         | 0.04782608695652174  |\n",
            "|    16   | 0.030434782608695653 |         0.0         | 0.030434782608695653 |\n",
            "|    17   | 0.04782608695652174  |         0.0         | 0.04782608695652174  |\n",
            "|    18   | 0.06086956521739131  |         0.0         | 0.06086956521739131  |\n",
            "|    19   |  0.2217391304347826  |         0.0         |  0.2217391304347826  |\n",
            "|    20   |  0.1826086956521739  |         0.0         |  0.1826086956521739  |\n",
            "| Average | 0.05260869565217392  |  0.0745219273480143 | 0.11800018821757949  |\n",
            "+---------+----------------------+---------------------+----------------------+\n"
          ],
          "name": "stdout"
        }
      ]
    },
    {
      "metadata": {
        "id": "eDOIIhmzj79X",
        "colab_type": "code",
        "colab": {}
      },
      "cell_type": "code",
      "source": [
        ""
      ],
      "execution_count": 0,
      "outputs": []
    }
  ]
}